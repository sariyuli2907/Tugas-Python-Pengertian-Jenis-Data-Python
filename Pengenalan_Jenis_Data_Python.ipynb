{
  "nbformat": 4,
  "nbformat_minor": 0,
  "metadata": {
    "colab": {
      "name": "Pengenalan Jenis Data Python.ipynb",
      "provenance": [],
      "collapsed_sections": []
    },
    "kernelspec": {
      "name": "python3",
      "display_name": "Python 3"
    },
    "language_info": {
      "name": "python"
    }
  },
  "cells": [
    {
      "cell_type": "markdown",
      "source": [
        "#Python Group Matplotlib\n",
        "#####Anggota:\n",
        "#####1.   Tobias Mikha Sulistiyo\n",
        "#####2.   Daud Ibadurahman\n",
        "#####3.   Putri Reghina Hilmi Prasasti\n",
        "#####4.   Sari Yuliastuti\n",
        "#####5.   Fitri Alfaqrina\n",
        "\n"
      ],
      "metadata": {
        "id": "W8xNteyI88vd"
      }
    },
    {
      "cell_type": "markdown",
      "source": [
        "#**Tipe Data String**"
      ],
      "metadata": {
        "id": "JxzQ6IC1Jito"
      }
    },
    {
      "cell_type": "markdown",
      "source": [
        "Data dibawah ini merupakan contoh data tipe **string**, yang biasanya digunakan untuk menyatakan karakter/kalimat berupa huruf ataupun angka. Biasanya tipe data string dipisahkan oleh ' ' ataupun \" \" Bisa juga mengunakan \"\"\" \"\"\" apabila akan menulis kalimat yang dipisahkan tiap baris baru."
      ],
      "metadata": {
        "id": "28C930QN_Fu0"
      }
    },
    {
      "cell_type": "code",
      "execution_count": 8,
      "metadata": {
        "id": "rmxGxswj85Xp"
      },
      "outputs": [],
      "source": [
        "a= 'Tobias'\n",
        "b= \"Daud\"\n",
        "c= 'Putri'\n",
        "d= \"Sari\"\n",
        "e= 'Fitri'"
      ]
    },
    {
      "cell_type": "code",
      "source": [
        "type (a)\n",
        "type (b)\n",
        "type (c)\n",
        "type (d)\n",
        "type (e)"
      ],
      "metadata": {
        "colab": {
          "base_uri": "https://localhost:8080/"
        },
        "id": "xbJrURo--pwq",
        "outputId": "7cabda17-77ca-4db0-b18d-9ac3262ffecf"
      },
      "execution_count": null,
      "outputs": [
        {
          "output_type": "execute_result",
          "data": {
            "text/plain": [
              "str"
            ]
          },
          "metadata": {},
          "execution_count": 2
        }
      ]
    },
    {
      "cell_type": "markdown",
      "source": [
        "Kita bisa memanggil variabel yang telah di run sebelumnya dan kita bisa kombinasikan dengan tulisan ataupun apa yang ingin kita tampilkan. Untuk pemisahnya kita menggunakan , "
      ],
      "metadata": {
        "id": "I_yqIJGgCBpY"
      }
    },
    {
      "cell_type": "code",
      "source": [
        "print (\"Anggota Kelompok Matplotlib adalah\", a, b, c, d, e)"
      ],
      "metadata": {
        "colab": {
          "base_uri": "https://localhost:8080/"
        },
        "id": "SGJw0tHEAzlE",
        "outputId": "09725ec0-fa7b-46e1-9ce4-650e6b1614f8"
      },
      "execution_count": null,
      "outputs": [
        {
          "output_type": "stream",
          "name": "stdout",
          "text": [
            "Anggota Kelompok Matplotlib adalah Tobias Daud Putri Sari Fitri\n"
          ]
        }
      ]
    },
    {
      "cell_type": "markdown",
      "source": [
        "Berikut adalah contoh tipe data string yang menggunakan \"\"\" \"\"\" untuk kalimat yang dipisahkan enter"
      ],
      "metadata": {
        "id": "_wlQeJyiC5PA"
      }
    },
    {
      "cell_type": "code",
      "source": [
        "f= \"\"\"Ini adalah tugas yang kita buat bersama\n",
        "Kami berusaha supaya tugas ini dapat maksimal dan dapat diterima\n",
        "Semoga kalian tetap sehat selalu\"\"\""
      ],
      "metadata": {
        "id": "pThvGFhLCW4K"
      },
      "execution_count": null,
      "outputs": []
    },
    {
      "cell_type": "code",
      "source": [
        "print (f)"
      ],
      "metadata": {
        "colab": {
          "base_uri": "https://localhost:8080/"
        },
        "id": "8MrEHut3DH3e",
        "outputId": "130ed037-f7b5-4af6-e941-39d97cf04def"
      },
      "execution_count": null,
      "outputs": [
        {
          "output_type": "stream",
          "name": "stdout",
          "text": [
            "Ini adalah tugas yang kita buat bersama\n",
            "Kami berusaha supaya tugas ini dapat maksimal dan dapat diterima\n",
            "Semoga kalian tetap sehat selalu\n"
          ]
        }
      ]
    },
    {
      "cell_type": "markdown",
      "source": [
        "Untuk pemisah baris selain dapat menggunakan enter, kita dapat menggunakan \\n untuk melakukannya tiap 1 \\n dapat memisahkan 1 baris. Apabila menggunakan enter, kita harus menggunakan \"\"\" \"\"\" agar berjalan. Namun apabila menggunakan \" \" atau ' ' kita harus menggunakan \\n untuk pemisah baris."
      ],
      "metadata": {
        "id": "ZKU9PqfLDmYP"
      }
    },
    {
      "cell_type": "code",
      "source": [
        "g= \"Ini adalah tugas yang kita buat bersama \\nKami berusaha supaya tugas ini dapat maksimal dan dapat diterima \\nSemoga kalian tetap sehat selalu\""
      ],
      "metadata": {
        "id": "30UjY-ssDOjJ"
      },
      "execution_count": null,
      "outputs": []
    },
    {
      "cell_type": "code",
      "source": [
        "print(f,\"\\n\\n\",g)"
      ],
      "metadata": {
        "colab": {
          "base_uri": "https://localhost:8080/"
        },
        "id": "JWP1-8lQEd7W",
        "outputId": "34b61517-9c7e-46c6-864d-f22ec2c267d3"
      },
      "execution_count": null,
      "outputs": [
        {
          "output_type": "stream",
          "name": "stdout",
          "text": [
            "Ini adalah tugas yang kita buat bersama\n",
            "Kami berusaha supaya tugas ini dapat maksimal dan dapat diterima\n",
            "Semoga kalian tetap sehat selalu \n",
            "\n",
            " Ini adalah tugas yang kita buat bersama \n",
            "Kami berusaha supaya tugas ini dapat maksimal dan dapat diterima \n",
            "Semoga kalian tetap sehat selalu\n"
          ]
        }
      ]
    },
    {
      "cell_type": "markdown",
      "source": [
        ""
      ],
      "metadata": {
        "id": "Jzu36WBD87eT"
      }
    },
    {
      "cell_type": "markdown",
      "source": [
        "#**Tipe data Int**"
      ],
      "metadata": {
        "id": "hQGy59qfFBSh"
      }
    },
    {
      "cell_type": "markdown",
      "source": [
        "tipe data Integer/int digunakan untuk menyatakan bilangan bulat (Bilangan yang tidak dipisahkan koma)"
      ],
      "metadata": {
        "id": "NxOK59DAFSOd"
      }
    },
    {
      "cell_type": "code",
      "source": [
        "h= 21"
      ],
      "metadata": {
        "id": "FNdUchMzFG31"
      },
      "execution_count": 42,
      "outputs": []
    },
    {
      "cell_type": "code",
      "source": [
        "type(h)"
      ],
      "metadata": {
        "colab": {
          "base_uri": "https://localhost:8080/"
        },
        "id": "ZmOrhp5OFOdZ",
        "outputId": "b6e35910-a90c-4218-c0c1-4bc0494cc98d"
      },
      "execution_count": 10,
      "outputs": [
        {
          "output_type": "execute_result",
          "data": {
            "text/plain": [
              "int"
            ]
          },
          "metadata": {},
          "execution_count": 10
        }
      ]
    },
    {
      "cell_type": "markdown",
      "source": [
        "Kita bisa memanggil variabel yang telah kita jalankan sebelumnya"
      ],
      "metadata": {
        "id": "wq_RubSYF7Yl"
      }
    },
    {
      "cell_type": "code",
      "source": [
        "print(\"Umur\", d, \"adalah\", h)"
      ],
      "metadata": {
        "colab": {
          "base_uri": "https://localhost:8080/"
        },
        "id": "HYKAw5sMFtzE",
        "outputId": "7e0470eb-b26f-40d1-ec1c-4143abf56c0a"
      },
      "execution_count": 43,
      "outputs": [
        {
          "output_type": "stream",
          "name": "stdout",
          "text": [
            "Umur Sari adalah 21\n"
          ]
        }
      ]
    },
    {
      "cell_type": "markdown",
      "source": [
        "Apabila tipe data integer diberi tanda aritmatika (+ - * /) maka yang akan ditampilkan adalah hasil dari operasi aritmatika yang ditulis"
      ],
      "metadata": {
        "id": "uD7shvo9GVWm"
      }
    },
    {
      "cell_type": "code",
      "source": [
        "i= 17+16+23"
      ],
      "metadata": {
        "id": "E2_FD6p8GMXi"
      },
      "execution_count": 12,
      "outputs": []
    },
    {
      "cell_type": "code",
      "source": [
        "print(i)"
      ],
      "metadata": {
        "colab": {
          "base_uri": "https://localhost:8080/"
        },
        "id": "QfNjEbPWGRyW",
        "outputId": "ef90e4b3-0d66-40fd-fcf6-2b056ada16a2"
      },
      "execution_count": 13,
      "outputs": [
        {
          "output_type": "stream",
          "name": "stdout",
          "text": [
            "56\n"
          ]
        }
      ]
    },
    {
      "cell_type": "markdown",
      "source": [
        "Sedangkan apabila tipe data yang kita gunakan adalah string, maka hasil yang akan keluar adalah operasi aritmatika tersebut"
      ],
      "metadata": {
        "id": "XqdjOIs-HD4j"
      }
    },
    {
      "cell_type": "code",
      "source": [
        "j='17+16+23'"
      ],
      "metadata": {
        "id": "ma_yNHTIG47o"
      },
      "execution_count": 14,
      "outputs": []
    },
    {
      "cell_type": "code",
      "source": [
        "print(j)"
      ],
      "metadata": {
        "colab": {
          "base_uri": "https://localhost:8080/"
        },
        "id": "e5PcBiYgG_Ja",
        "outputId": "c2ade4ff-af74-4da9-a30b-9fef12327ae7"
      },
      "execution_count": 15,
      "outputs": [
        {
          "output_type": "stream",
          "name": "stdout",
          "text": [
            "17+16+23\n"
          ]
        }
      ]
    },
    {
      "cell_type": "markdown",
      "source": [
        "#**Tipe data Float**"
      ],
      "metadata": {
        "id": "MS2rsSbCHi4y"
      }
    },
    {
      "cell_type": "markdown",
      "source": [
        "Tipe data float digunakan untuk menyatakan bilangan yang mempunyai koma (Bilangan tak hingga) untuk python, tanda koma ditulis menggunakan titik"
      ],
      "metadata": {
        "id": "1N-giyI7HxbV"
      }
    },
    {
      "cell_type": "code",
      "source": [
        "k= 0.99"
      ],
      "metadata": {
        "id": "CiMMYN6zH7Dt"
      },
      "execution_count": 16,
      "outputs": []
    },
    {
      "cell_type": "code",
      "source": [
        "type(k)"
      ],
      "metadata": {
        "colab": {
          "base_uri": "https://localhost:8080/"
        },
        "id": "su6YAJDiH-hM",
        "outputId": "3b349065-ebbc-4a29-beb3-cda30a011637"
      },
      "execution_count": 17,
      "outputs": [
        {
          "output_type": "execute_result",
          "data": {
            "text/plain": [
              "float"
            ]
          },
          "metadata": {},
          "execution_count": 17
        }
      ]
    },
    {
      "cell_type": "markdown",
      "source": [
        "Tipe data float juga dapat digunakan untuk menampilkan hasil operasi aritmatika"
      ],
      "metadata": {
        "id": "zSRJj64OISiw"
      }
    },
    {
      "cell_type": "code",
      "source": [
        "l= 8.125 * 0.17 "
      ],
      "metadata": {
        "id": "eYLuDgqPIWnc"
      },
      "execution_count": 18,
      "outputs": []
    },
    {
      "cell_type": "code",
      "source": [
        "print(l)"
      ],
      "metadata": {
        "colab": {
          "base_uri": "https://localhost:8080/"
        },
        "id": "j1mdURCZIeb9",
        "outputId": "3673cb06-495c-49f3-938e-644b15ceaac9"
      },
      "execution_count": 19,
      "outputs": [
        {
          "output_type": "stream",
          "name": "stdout",
          "text": [
            "1.38125\n"
          ]
        }
      ]
    },
    {
      "cell_type": "markdown",
      "source": [
        "Apabila operasi Dalam float diubah menjadi string, maka output yang akan keluar dalah operasi tersebut bukan hasil dari operasi tersebut"
      ],
      "metadata": {
        "id": "CjY1F6sdLv2i"
      }
    },
    {
      "cell_type": "code",
      "source": [
        "o=\"8.125 * 0.17 \""
      ],
      "metadata": {
        "id": "Hw5FIIwlLkUF"
      },
      "execution_count": 20,
      "outputs": []
    },
    {
      "cell_type": "code",
      "source": [
        "print (o)"
      ],
      "metadata": {
        "colab": {
          "base_uri": "https://localhost:8080/"
        },
        "id": "sic99vfSLs9v",
        "outputId": "c5710a6a-565c-47a1-91d5-9dde6b100da9"
      },
      "execution_count": 21,
      "outputs": [
        {
          "output_type": "stream",
          "name": "stdout",
          "text": [
            "8.125 * 0.17 \n"
          ]
        }
      ]
    },
    {
      "cell_type": "markdown",
      "source": [
        "Kita juga bisa menuliskan rumus yang telah kita run sebelumnya ke operasi yang baru. Atau kita juga bisa menuliskannya di dalam print"
      ],
      "metadata": {
        "id": "rJjeDgN-KDMS"
      }
    },
    {
      "cell_type": "code",
      "source": [
        "m= l/i"
      ],
      "metadata": {
        "id": "cahPBEIdJ16q"
      },
      "execution_count": 22,
      "outputs": []
    },
    {
      "cell_type": "code",
      "source": [
        "print (m)"
      ],
      "metadata": {
        "colab": {
          "base_uri": "https://localhost:8080/"
        },
        "id": "zIsmzfyXJ92V",
        "outputId": "74828e4a-e844-4940-8e90-b56e93622e36"
      },
      "execution_count": 23,
      "outputs": [
        {
          "output_type": "stream",
          "name": "stdout",
          "text": [
            "0.024665178571428574\n"
          ]
        }
      ]
    },
    {
      "cell_type": "code",
      "source": [
        "print(l-i)"
      ],
      "metadata": {
        "colab": {
          "base_uri": "https://localhost:8080/"
        },
        "id": "vMVL_eeiKNKO",
        "outputId": "5814cb74-f0d1-4a8f-9728-dd47b403e812"
      },
      "execution_count": 24,
      "outputs": [
        {
          "output_type": "stream",
          "name": "stdout",
          "text": [
            "-54.61875\n"
          ]
        }
      ]
    },
    {
      "cell_type": "markdown",
      "source": [
        "#**Tipe data Complex**"
      ],
      "metadata": {
        "id": "m5zgW2eqNjF1"
      }
    },
    {
      "cell_type": "markdown",
      "source": [
        "Tipe data kompleks untuk menyatakan pasangan angka real dan imajiner, untuk imajinernya menggunakan huruf j sebagai penanda imajiner. Bilangan kompleks biasanya digunakan untuk menghitung sinyal, untuk menghitung grafik dan masih banyak lagi"
      ],
      "metadata": {
        "id": "0reuNuCOOHxn"
      }
    },
    {
      "cell_type": "code",
      "source": [
        "p= 17+ 2j"
      ],
      "metadata": {
        "id": "HSHEWUqeStic"
      },
      "execution_count": 25,
      "outputs": []
    },
    {
      "cell_type": "code",
      "source": [
        "type(p)"
      ],
      "metadata": {
        "colab": {
          "base_uri": "https://localhost:8080/"
        },
        "id": "lIvQravBSyHb",
        "outputId": "b48c9211-17e0-40db-c78e-9a32098f947f"
      },
      "execution_count": 26,
      "outputs": [
        {
          "output_type": "execute_result",
          "data": {
            "text/plain": [
              "complex"
            ]
          },
          "metadata": {},
          "execution_count": 26
        }
      ]
    },
    {
      "cell_type": "markdown",
      "source": [
        "Apabila penanda imajinernya diganti huruf yang lain, maka akan terjadi eror dan tidak dapat dijalankan"
      ],
      "metadata": {
        "id": "Dfbgxi4HVPKp"
      }
    },
    {
      "cell_type": "code",
      "source": [
        "r= 17+2i"
      ],
      "metadata": {
        "colab": {
          "base_uri": "https://localhost:8080/",
          "height": 130
        },
        "id": "HO8ZJ7-NVG0w",
        "outputId": "f92d8d3e-fd46-48d4-8939-3e2f4252c919"
      },
      "execution_count": 27,
      "outputs": [
        {
          "output_type": "error",
          "ename": "SyntaxError",
          "evalue": "ignored",
          "traceback": [
            "\u001b[0;36m  File \u001b[0;32m\"<ipython-input-27-1cc957c5853e>\"\u001b[0;36m, line \u001b[0;32m1\u001b[0m\n\u001b[0;31m    r= 17+2i\u001b[0m\n\u001b[0m           ^\u001b[0m\n\u001b[0;31mSyntaxError\u001b[0m\u001b[0;31m:\u001b[0m invalid syntax\n"
          ]
        }
      ]
    },
    {
      "cell_type": "markdown",
      "source": [
        "Kita juga bisa melakukan operasi bilangan pada data tipe complex"
      ],
      "metadata": {
        "id": "OZOn_Ix9TN4d"
      }
    },
    {
      "cell_type": "code",
      "source": [
        "q= 16-3j + -8+7j"
      ],
      "metadata": {
        "id": "rZmMcgYvS227"
      },
      "execution_count": 28,
      "outputs": []
    },
    {
      "cell_type": "code",
      "source": [
        "print (q)"
      ],
      "metadata": {
        "colab": {
          "base_uri": "https://localhost:8080/"
        },
        "id": "ea4dAQAHTA57",
        "outputId": "b0a86e0c-4066-49da-a8df-6253efcfb4c2"
      },
      "execution_count": 29,
      "outputs": [
        {
          "output_type": "stream",
          "name": "stdout",
          "text": [
            "(8+4j)\n"
          ]
        }
      ]
    },
    {
      "cell_type": "markdown",
      "source": [
        "untuk mengubah bilangan biasa menjadi complex, kita bisa menggunakan kode complex dengan dipisahkan koma"
      ],
      "metadata": {
        "id": "etb89uoMUBAl"
      }
    },
    {
      "cell_type": "code",
      "source": [
        "complex(17,3)"
      ],
      "metadata": {
        "colab": {
          "base_uri": "https://localhost:8080/"
        },
        "id": "qHmPUUgxTnnd",
        "outputId": "a4b865ec-cfb9-4d40-c58a-e0ec8a9178cb"
      },
      "execution_count": 30,
      "outputs": [
        {
          "output_type": "execute_result",
          "data": {
            "text/plain": [
              "(17+3j)"
            ]
          },
          "metadata": {},
          "execution_count": 30
        }
      ]
    },
    {
      "cell_type": "markdown",
      "source": [
        "# Tipe Data Boolean"
      ],
      "metadata": {
        "id": "EqyoQ_1hmxX-"
      }
    },
    {
      "cell_type": "markdown",
      "source": [
        "Tipe data yang hanya memuat 2 nilai yaitu true dan false. Tipe data ini sangat berguna untuk penyusunan algoritma pemrograman khususnya Ketika mulai berurusan dengan kondisi dan perulangan."
      ],
      "metadata": {
        "id": "ZAmQ9xbHnAP3"
      }
    },
    {
      "cell_type": "code",
      "source": [
        "a = 10 > 3"
      ],
      "metadata": {
        "id": "PeThF8ThnE_n"
      },
      "execution_count": 35,
      "outputs": []
    },
    {
      "cell_type": "code",
      "source": [
        "print(a)"
      ],
      "metadata": {
        "colab": {
          "base_uri": "https://localhost:8080/"
        },
        "id": "s8ClfDSfnoRo",
        "outputId": "b5b104a5-5ac1-43a3-9021-9c02157c7224"
      },
      "execution_count": 36,
      "outputs": [
        {
          "output_type": "stream",
          "name": "stdout",
          "text": [
            "True\n"
          ]
        }
      ]
    },
    {
      "cell_type": "code",
      "source": [
        "b = 10 < 3"
      ],
      "metadata": {
        "id": "1O6hPVesnrMu"
      },
      "execution_count": 37,
      "outputs": []
    },
    {
      "cell_type": "code",
      "source": [
        "print(b)"
      ],
      "metadata": {
        "colab": {
          "base_uri": "https://localhost:8080/"
        },
        "id": "jd2pnhHOnzV6",
        "outputId": "f061753d-916b-44a6-f2be-d3d9fe7f23e6"
      },
      "execution_count": 38,
      "outputs": [
        {
          "output_type": "stream",
          "name": "stdout",
          "text": [
            "False\n"
          ]
        }
      ]
    },
    {
      "cell_type": "markdown",
      "source": [
        "Terdapat operasi logika boolean. operasi ini berfungsi untuk membandingkan pernyataan logika dengan padanan matematikanya."
      ],
      "metadata": {
        "id": "OTXYSY0zoGJP"
      }
    },
    {
      "cell_type": "code",
      "source": [
        "10>3 and 8<10"
      ],
      "metadata": {
        "colab": {
          "base_uri": "https://localhost:8080/"
        },
        "id": "ndyIfdaAod7Q",
        "outputId": "b5f4a0a2-2f37-4e5b-ca1b-09de3e174ef7"
      },
      "execution_count": 39,
      "outputs": [
        {
          "output_type": "execute_result",
          "data": {
            "text/plain": [
              "True"
            ]
          },
          "metadata": {},
          "execution_count": 39
        }
      ]
    }
  ]
}